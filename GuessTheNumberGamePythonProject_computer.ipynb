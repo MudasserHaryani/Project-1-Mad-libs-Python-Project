{
  "nbformat": 4,
  "nbformat_minor": 0,
  "metadata": {
    "colab": {
      "provenance": [],
      "authorship_tag": "ABX9TyO7TPOARzTkeB7nZK4Ewtei",
      "include_colab_link": true
    },
    "kernelspec": {
      "name": "python3",
      "display_name": "Python 3"
    },
    "language_info": {
      "name": "python"
    }
  },
  "cells": [
    {
      "cell_type": "markdown",
      "metadata": {
        "id": "view-in-github",
        "colab_type": "text"
      },
      "source": [
        "<a href=\"https://colab.research.google.com/github/MudasserHaryani/Project-1-Mad-libs-Python-Project/blob/main/GuessTheNumberGamePythonProject_computer.ipynb\" target=\"_parent\"><img src=\"https://colab.research.google.com/assets/colab-badge.svg\" alt=\"Open In Colab\"/></a>"
      ]
    },
    {
      "cell_type": "code",
      "execution_count": 1,
      "metadata": {
        "colab": {
          "base_uri": "https://localhost:8080/"
        },
        "id": "Ptm6WOzfpZrP",
        "outputId": "8cc67d48-590f-41c6-85d1-e33eb9cf4293"
      },
      "outputs": [
        {
          "output_type": "stream",
          "name": "stdout",
          "text": [
            "Is 3 too high (H), too low (L), or correct (C)? 2\n",
            "Is 2 too high (H), too low (L), or correct (C)? c\n",
            "Yay! The computer guessed your number, 2, correctly!\n"
          ]
        }
      ],
      "source": [
        "import random\n",
        "\n",
        "def computer_guess(x):\n",
        "    low = 1\n",
        "    high = x\n",
        "    feedback = ''\n",
        "    while feedback != 'c':\n",
        "        if low != high:\n",
        "            comp_guess = random.randint(low, high)\n",
        "        else:\n",
        "            comp_guess = low\n",
        "        feedback = input(f\"Is {comp_guess} too high (H), too low (L), or correct (C)? \").lower()\n",
        "        if feedback == 'h':\n",
        "            high = comp_guess - 1\n",
        "        elif feedback == 'l':\n",
        "            low = comp_guess + 1\n",
        "    print(f\"Yay! The computer guessed your number, {comp_guess}, correctly!\")\n",
        "\n",
        "# Call the computer_guess function\n",
        "computer_guess(3)"
      ]
    }
  ]
}